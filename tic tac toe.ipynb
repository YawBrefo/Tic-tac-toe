{
 "cells": [
  {
   "cell_type": "code",
   "execution_count": 29,
   "metadata": {},
   "outputs": [],
   "source": [
    "'''\n",
    "This is a fun project to play the game tic tac toe\n",
    "It is a naive python implementation of the game\n",
    "while the original board game is 3-dim, this code is desined to take higher dimensions\n",
    "Enjoy, and please give feedback though my mail(bdwamena@aimsammi.org), thanks!! \n",
    "'''\n",
    "# The board if first constructed through a nested list to form a 3 x 3 matrix, \n",
    "# Possible board positions are marked 'x'.\n",
    "# Moreover, this program allows the board to be expanded as desired.\n",
    "\n",
    "Game_board = [['x','x','o'],\n",
    "              ['x','o','o'],\n",
    "              ['o','x','x']]"
   ]
  },
  {
   "cell_type": "code",
   "execution_count": 30,
   "metadata": {},
   "outputs": [],
   "source": [
    "# This function takes in the game_board play positions, analyzes and returns all possible outcomes.\n",
    "# In a nutshell, i loop through rows, columns, forward and back diagonals for position values: Board[row][col].\n",
    "# Perform an equality test between current and next board position from start to end of trajectory.\n",
    "# If along that trajectory, all values are equal, then a winner is found, else no winner is declared.\n",
    "\n",
    "def tic_tac_toe(board):\n",
    "    # first i'll set win to false\n",
    "    win = False\n",
    "    # this iteration searches a winning position for all rows\n",
    "    for row in range(0,len(board)): \n",
    "        r_counter = 0\n",
    "        col = 0\n",
    "        while col < len(board)-1:\n",
    "            if board[row][col] == board[row][col+1]:\n",
    "                r_counter += 1\n",
    "            col += 1        \n",
    "        if r_counter == len(board)-1:\n",
    "            win = True\n",
    "            print('{} have won! Game Over!! alligned at row {}'.format((board[row][col]),(row+1)))\n",
    "        \n",
    "    # the winning position for the all columns \n",
    "    for col in range(0,len(board)): \n",
    "        c_counter = 0\n",
    "        row = 0\n",
    "        while row < len(board)-1:\n",
    "            if board[row][col] == board[row+1][col]:\n",
    "                c_counter += 1\n",
    "            row += 1 \n",
    "        if c_counter == len(board)-1:\n",
    "            win = True\n",
    "            print('{} have won! Game Over!! alligned at column {}'.format((board[row][col]),(col+1)))\n",
    "            \n",
    "    # forward daigonal winning position\n",
    "    f_counter = 0\n",
    "    for i in range(0,len(board)-1): \n",
    "        if board[i][i] == board[i+1][i+1]:\n",
    "            f_counter += 1\n",
    "    if f_counter == len(board)-1:\n",
    "        win = True\n",
    "        print('{} have won! Game Over!! from the forward diagonal allignment'.format(board[i][i]))\n",
    "    \n",
    "    # back diagonal winning board position\n",
    "    # for this step i create a new dic to hold both ascending row and descending column ranges (0,2)(1,1)(2,0)\n",
    "    dic = {'asc_row':list(range(0,len(board))),'desc_col':list(range(len(board)-1,-1,-1))}\n",
    "    b_counter = 0\n",
    "    for i in range(0,len(board)-1):\n",
    "        if board[dic['asc_row'][i]][dic['desc_col'][i]] == board[dic['asc_row'][i+1]][dic['desc_col'][i+1]]:\n",
    "            b_counter += 1\n",
    "    if b_counter == len(board)-1:\n",
    "        win = True\n",
    "        print('{} have won! Game Over!! from the back diagonal allignment'.format(board[dic['asc_row'][i]][dic['desc_col'][i]]))\n",
    "        \n",
    "    # Check if there is no win\n",
    "    if win is False: print('NO WINNER!! after playing the board there is no winner!')"
   ]
  },
  {
   "cell_type": "code",
   "execution_count": 28,
   "metadata": {},
   "outputs": [
    {
     "name": "stdout",
     "output_type": "stream",
     "text": [
      "o have won! Game Over!! from the back diagonal allignment\n"
     ]
    }
   ],
   "source": [
    "# Test the function\n",
    "tic_tac_toe(Game_board)"
   ]
  },
  {
   "cell_type": "code",
   "execution_count": null,
   "metadata": {},
   "outputs": [],
   "source": [
    "# a. Future steps woild be to take an input from the players.\n",
    "# b. play the game using GUI for simplicity and better visuals."
   ]
  }
 ],
 "metadata": {
  "kernelspec": {
   "display_name": "Python 3",
   "language": "python",
   "name": "python3"
  },
  "language_info": {
   "codemirror_mode": {
    "name": "ipython",
    "version": 3
   },
   "file_extension": ".py",
   "mimetype": "text/x-python",
   "name": "python",
   "nbconvert_exporter": "python",
   "pygments_lexer": "ipython3",
   "version": "3.7.3"
  }
 },
 "nbformat": 4,
 "nbformat_minor": 5
}
